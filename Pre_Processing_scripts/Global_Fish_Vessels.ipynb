{
 "cells": [
  {
   "cell_type": "markdown",
   "metadata": {},
   "source": [
    "# Global fish watch vessel pre-processing. Removing useless columns."
   ]
  },
  {
   "cell_type": "code",
   "execution_count": 1,
   "metadata": {},
   "outputs": [],
   "source": [
    "import pandas as pd\n",
    "import os"
   ]
  },
  {
   "cell_type": "code",
   "execution_count": 2,
   "metadata": {},
   "outputs": [],
   "source": [
    "path = \"../\""
   ]
  },
  {
   "cell_type": "code",
   "execution_count": 4,
   "metadata": {},
   "outputs": [],
   "source": [
    "data_path = os.path.join(path,'Raw_Data', 'global_fish_watch', 'fishing-vessels-v2.csv')"
   ]
  },
  {
   "cell_type": "code",
   "execution_count": 5,
   "metadata": {},
   "outputs": [],
   "source": [
    "needed_directories = [\n",
    "    os.path.join(path, 'Preprocessed_data'),\n",
    "    os.path.join(path, 'Preprocessed_data',\"Global_Fish_Watch\")\n",
    "]"
   ]
  },
  {
   "cell_type": "code",
   "execution_count": 6,
   "metadata": {},
   "outputs": [],
   "source": [
    "for directory in needed_directories:\n",
    "    if not os.path.exists(directory): \n",
    "        os.makedirs(directory)"
   ]
  },
  {
   "cell_type": "code",
   "execution_count": 7,
   "metadata": {},
   "outputs": [],
   "source": [
    "df = pd.read_csv(data_path)"
   ]
  },
  {
   "cell_type": "code",
   "execution_count": 8,
   "metadata": {},
   "outputs": [],
   "source": [
    "df = df[['mmsi', 'flag_gfw', 'vessel_class_inferred_score', 'vessel_class_gfw', 'self_reported_fishing_vessel', 'length_m_gfw',\n",
    "        'engine_power_kw_gfw', 'tonnage_gt_gfw', 'registries_listed', 'fishing_hours_2012', 'fishing_hours_2013', 'fishing_hours_2014',\n",
    "        'fishing_hours_2015', 'fishing_hours_2016', 'fishing_hours_2017', 'fishing_hours_2018', 'fishing_hours_2019', 'fishing_hours_2020'\n",
    "        ]]"
   ]
  },
  {
   "cell_type": "code",
   "execution_count": 10,
   "metadata": {},
   "outputs": [],
   "source": [
    "df.to_csv(os.path.join(path, 'Preprocessed_data',\"Global_Fish_Watch\", \"Global_watch_fish_vessels_PREPROCESSED.csv\"), index=False)"
   ]
  }
 ],
 "metadata": {
  "kernelspec": {
   "display_name": "Python 3",
   "language": "python",
   "name": "python3"
  },
  "language_info": {
   "codemirror_mode": {
    "name": "ipython",
    "version": 3
   },
   "file_extension": ".py",
   "mimetype": "text/x-python",
   "name": "python",
   "nbconvert_exporter": "python",
   "pygments_lexer": "ipython3",
   "version": "3.8.5"
  }
 },
 "nbformat": 4,
 "nbformat_minor": 4
}
