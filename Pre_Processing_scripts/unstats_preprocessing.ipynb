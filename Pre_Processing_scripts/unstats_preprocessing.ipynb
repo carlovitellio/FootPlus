{
 "cells": [
  {
   "cell_type": "code",
   "execution_count": 1,
   "metadata": {},
   "outputs": [],
   "source": [
    "import os\n",
    "import pandas as pd\n",
    "import numpy as np"
   ]
  },
  {
   "cell_type": "code",
   "execution_count": 2,
   "metadata": {},
   "outputs": [],
   "source": [
    "data_path = os.path.join(os.getcwd(), \"../\", \"Raw_Data\")\n",
    "unstats_path = os.path.join(data_path, \"unstats\")"
   ]
  },
  {
   "cell_type": "code",
   "execution_count": 3,
   "metadata": {},
   "outputs": [],
   "source": [
    "tabella_decodifica = pd.read_excel(os.path.join(unstats_path, \"data.xlsx\"), sheet_name='CodeDescriptions')\n",
    "df_food_waste = pd.read_excel(os.path.join(unstats_path, \"data.xlsx\"), sheet_name='Goal12')\n",
    "df_gas_emission = pd.read_excel(os.path.join(unstats_path, \"data.xlsx\"), sheet_name='Goal13')\n",
    "df_oceans_sustainably = pd.read_excel(os.path.join(unstats_path, \"data.xlsx\"), sheet_name='Goal14')\n"
   ]
  },
  {
   "cell_type": "code",
   "execution_count": 4,
   "metadata": {},
   "outputs": [
    {
     "data": {
      "text/plain": [
       "Food waste per capita (KG)    208\n",
       "Food waste (Tonnes)           208\n",
       "Food loss percentage (%)        9\n",
       "Name: SeriesDescription, dtype: int64"
      ]
     },
     "execution_count": 4,
     "metadata": {},
     "output_type": "execute_result"
    }
   ],
   "source": [
    "df_food_waste.SeriesDescription.value_counts()"
   ]
  },
  {
   "cell_type": "code",
   "execution_count": null,
   "metadata": {},
   "outputs": [],
   "source": []
  }
 ],
 "metadata": {
  "kernelspec": {
   "display_name": "Python 3",
   "language": "python",
   "name": "python3"
  },
  "language_info": {
   "codemirror_mode": {
    "name": "ipython",
    "version": 3
   },
   "file_extension": ".py",
   "mimetype": "text/x-python",
   "name": "python",
   "nbconvert_exporter": "python",
   "pygments_lexer": "ipython3",
   "version": "3.7.9"
  }
 },
 "nbformat": 4,
 "nbformat_minor": 4
}
