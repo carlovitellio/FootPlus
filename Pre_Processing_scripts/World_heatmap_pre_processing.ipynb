{
 "cells": [
  {
   "cell_type": "code",
   "execution_count": 1,
   "metadata": {},
   "outputs": [],
   "source": [
    "import dask.dataframe as dd\n",
    "import pandas as pd\n",
    "import os\n",
    "import gc"
   ]
  },
  {
   "cell_type": "code",
   "execution_count": 2,
   "metadata": {},
   "outputs": [],
   "source": [
    "needed_directories = [\n",
    "    os.path.join('../', 'Preprocessed_data'),\n",
    "    os.path.join('../', 'Preprocessed_data',\"Global_Fish_Watch_world_heatmap\")\n",
    "]"
   ]
  },
  {
   "cell_type": "code",
   "execution_count": 3,
   "metadata": {},
   "outputs": [],
   "source": [
    "for directory in needed_directories:\n",
    "    if not os.path.exists(directory): \n",
    "        os.makedirs(directory)"
   ]
  },
  {
   "cell_type": "code",
   "execution_count": 4,
   "metadata": {},
   "outputs": [],
   "source": [
    "df_list = []"
   ]
  },
  {
   "cell_type": "code",
   "execution_count": 5,
   "metadata": {},
   "outputs": [],
   "source": [
    "file_list = ['mmsi-daily-csvs-10-v2-2012', 'mmsi-daily-csvs-10-v2-2013', 'mmsi-daily-csvs-10-v2-2014', 'mmsi-daily-csvs-10-v2-2015',\n",
    "            'mmsi-daily-csvs-10-v2-2016', 'mmsi-daily-csvs-10-v2-2017', 'mmsi-daily-csvs-10-v2-2018', 'mmsi-daily-csvs-10-v2-2019',\n",
    "            'mmsi-daily-csvs-10-v2-2020']"
   ]
  },
  {
   "cell_type": "code",
   "execution_count": 11,
   "metadata": {
    "scrolled": false
   },
   "outputs": [
    {
     "name": "stdout",
     "output_type": "stream",
     "text": [
      "..\\Raw_Data\\Global_fish_world_heatmap\\mmsi-daily-csvs-10-v2-2012\\*\n",
      "..\\Raw_Data\\Global_fish_world_heatmap\\mmsi-daily-csvs-10-v2-2013\\*\n",
      "..\\Raw_Data\\Global_fish_world_heatmap\\mmsi-daily-csvs-10-v2-2014\\*\n",
      "..\\Raw_Data\\Global_fish_world_heatmap\\mmsi-daily-csvs-10-v2-2015\\*\n",
      "..\\Raw_Data\\Global_fish_world_heatmap\\mmsi-daily-csvs-10-v2-2016\\*\n",
      "..\\Raw_Data\\Global_fish_world_heatmap\\mmsi-daily-csvs-10-v2-2017\\*\n",
      "..\\Raw_Data\\Global_fish_world_heatmap\\mmsi-daily-csvs-10-v2-2018\\*\n",
      "..\\Raw_Data\\Global_fish_world_heatmap\\mmsi-daily-csvs-10-v2-2019\\*\n",
      "..\\Raw_Data\\Global_fish_world_heatmap\\mmsi-daily-csvs-10-v2-2020\\*\n"
     ]
    }
   ],
   "source": [
    "for file in file_list:\n",
    "    path = os.path.join('..\\Raw_Data\\Global_fish_world_heatmap', file, '*')\n",
    "    print(path)\n",
    "    df = dd.read_csv(path)\n",
    "    df = df.drop(columns = ['mmsi', 'hours'])\n",
    "    df_pandas = df.compute()\n",
    "    df_pandas = df_pandas[df_pandas.fishing_hours != 0]\n",
    "    df_pandas = df_pandas.drop(columns=['fishing_hours'])\n",
    "    filename = file + '.csv'\n",
    "    saving_path = os.path.join(needed_directories[1], filename)\n",
    "    df_pandas = df_pandas.sample(frac = 0.1)\n",
    "    df_pandas.to_csv(saving_path, index=False)\n",
    "    gc.collect()\n",
    "\n",
    "    \n",
    "    \n"
   ]
  },
  {
   "cell_type": "code",
   "execution_count": 4,
   "metadata": {},
   "outputs": [],
   "source": [
    "df = dd.read_csv(\"../Raw_Data/Global_fish_world_heatmap/mmsi-daily-csvs-10-v2-2012/*\")"
   ]
  },
  {
   "cell_type": "code",
   "execution_count": 6,
   "metadata": {},
   "outputs": [],
   "source": [
    "df = df.drop(columns = ['mmsi', 'hours'])"
   ]
  },
  {
   "cell_type": "code",
   "execution_count": 9,
   "metadata": {},
   "outputs": [],
   "source": [
    "df_pandas = df.compute()\n",
    "df_pandas"
   ]
  },
  {
   "cell_type": "code",
   "execution_count": 11,
   "metadata": {},
   "outputs": [
    {
     "data": {
      "text/html": [
       "<div>\n",
       "<style scoped>\n",
       "    .dataframe tbody tr th:only-of-type {\n",
       "        vertical-align: middle;\n",
       "    }\n",
       "\n",
       "    .dataframe tbody tr th {\n",
       "        vertical-align: top;\n",
       "    }\n",
       "\n",
       "    .dataframe thead th {\n",
       "        text-align: right;\n",
       "    }\n",
       "</style>\n",
       "<table border=\"1\" class=\"dataframe\">\n",
       "  <thead>\n",
       "    <tr style=\"text-align: right;\">\n",
       "      <th></th>\n",
       "      <th>date</th>\n",
       "      <th>cell_ll_lat</th>\n",
       "      <th>cell_ll_lon</th>\n",
       "      <th>fishing_hours</th>\n",
       "    </tr>\n",
       "  </thead>\n",
       "  <tbody>\n",
       "    <tr>\n",
       "      <th>352</th>\n",
       "      <td>2012-01-01</td>\n",
       "      <td>-46.0</td>\n",
       "      <td>-60.7</td>\n",
       "      <td>1.5838</td>\n",
       "    </tr>\n",
       "    <tr>\n",
       "      <th>581</th>\n",
       "      <td>2012-01-01</td>\n",
       "      <td>-45.5</td>\n",
       "      <td>-60.1</td>\n",
       "      <td>1.6275</td>\n",
       "    </tr>\n",
       "    <tr>\n",
       "      <th>712</th>\n",
       "      <td>2012-01-01</td>\n",
       "      <td>-4.3</td>\n",
       "      <td>-174.0</td>\n",
       "      <td>1.8330</td>\n",
       "    </tr>\n",
       "    <tr>\n",
       "      <th>1226</th>\n",
       "      <td>2012-01-01</td>\n",
       "      <td>-45.4</td>\n",
       "      <td>-60.6</td>\n",
       "      <td>3.2338</td>\n",
       "    </tr>\n",
       "    <tr>\n",
       "      <th>1280</th>\n",
       "      <td>2012-01-01</td>\n",
       "      <td>-45.9</td>\n",
       "      <td>-60.6</td>\n",
       "      <td>3.2494</td>\n",
       "    </tr>\n",
       "    <tr>\n",
       "      <th>...</th>\n",
       "      <td>...</td>\n",
       "      <td>...</td>\n",
       "      <td>...</td>\n",
       "      <td>...</td>\n",
       "    </tr>\n",
       "    <tr>\n",
       "      <th>16375</th>\n",
       "      <td>2012-12-31</td>\n",
       "      <td>75.7</td>\n",
       "      <td>29.7</td>\n",
       "      <td>3.1222</td>\n",
       "    </tr>\n",
       "    <tr>\n",
       "      <th>16376</th>\n",
       "      <td>2012-12-31</td>\n",
       "      <td>75.7</td>\n",
       "      <td>29.1</td>\n",
       "      <td>0.1724</td>\n",
       "    </tr>\n",
       "    <tr>\n",
       "      <th>16381</th>\n",
       "      <td>2012-12-31</td>\n",
       "      <td>79.7</td>\n",
       "      <td>18.0</td>\n",
       "      <td>1.5583</td>\n",
       "    </tr>\n",
       "    <tr>\n",
       "      <th>16382</th>\n",
       "      <td>2012-12-31</td>\n",
       "      <td>79.7</td>\n",
       "      <td>18.1</td>\n",
       "      <td>1.5719</td>\n",
       "    </tr>\n",
       "    <tr>\n",
       "      <th>16383</th>\n",
       "      <td>2012-12-31</td>\n",
       "      <td>79.7</td>\n",
       "      <td>18.2</td>\n",
       "      <td>1.5641</td>\n",
       "    </tr>\n",
       "  </tbody>\n",
       "</table>\n",
       "<p>2605052 rows × 4 columns</p>\n",
       "</div>"
      ],
      "text/plain": [
       "             date  cell_ll_lat  cell_ll_lon  fishing_hours\n",
       "352    2012-01-01        -46.0        -60.7         1.5838\n",
       "581    2012-01-01        -45.5        -60.1         1.6275\n",
       "712    2012-01-01         -4.3       -174.0         1.8330\n",
       "1226   2012-01-01        -45.4        -60.6         3.2338\n",
       "1280   2012-01-01        -45.9        -60.6         3.2494\n",
       "...           ...          ...          ...            ...\n",
       "16375  2012-12-31         75.7         29.7         3.1222\n",
       "16376  2012-12-31         75.7         29.1         0.1724\n",
       "16381  2012-12-31         79.7         18.0         1.5583\n",
       "16382  2012-12-31         79.7         18.1         1.5719\n",
       "16383  2012-12-31         79.7         18.2         1.5641\n",
       "\n",
       "[2605052 rows x 4 columns]"
      ]
     },
     "execution_count": 11,
     "metadata": {},
     "output_type": "execute_result"
    }
   ],
   "source": [
    "df_pandas = df_pandas[df_pandas.fishing_hours != 0]\n",
    "df_pandas"
   ]
  },
  {
   "cell_type": "code",
   "execution_count": null,
   "metadata": {},
   "outputs": [],
   "source": []
  }
 ],
 "metadata": {
  "kernelspec": {
   "display_name": "Python 3",
   "language": "python",
   "name": "python3"
  },
  "language_info": {
   "codemirror_mode": {
    "name": "ipython",
    "version": 3
   },
   "file_extension": ".py",
   "mimetype": "text/x-python",
   "name": "python",
   "nbconvert_exporter": "python",
   "pygments_lexer": "ipython3",
   "version": "3.8.5"
  }
 },
 "nbformat": 4,
 "nbformat_minor": 4
}
