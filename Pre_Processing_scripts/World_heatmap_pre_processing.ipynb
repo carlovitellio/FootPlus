{
 "cells": [
  {
   "cell_type": "code",
   "execution_count": 17,
   "metadata": {},
   "outputs": [],
   "source": [
    "import dask.dataframe as dd\n",
    "import pandas as pd\n",
    "import os\n",
    "import gc"
   ]
  },
  {
   "cell_type": "code",
   "execution_count": 18,
   "metadata": {},
   "outputs": [],
   "source": [
    "needed_directories = [\n",
    "    os.path.join('../', 'Preprocessed_data'),\n",
    "    os.path.join('../', 'Preprocessed_data',\"Global_Fish_Watch_world_heatmap\")\n",
    "]"
   ]
  },
  {
   "cell_type": "code",
   "execution_count": 19,
   "metadata": {},
   "outputs": [],
   "source": [
    "for directory in needed_directories:\n",
    "    if not os.path.exists(directory): \n",
    "        os.makedirs(directory)"
   ]
  },
  {
   "cell_type": "code",
   "execution_count": 20,
   "metadata": {},
   "outputs": [],
   "source": [
    "df_list = []"
   ]
  },
  {
   "cell_type": "code",
   "execution_count": 21,
   "metadata": {},
   "outputs": [
    {
     "data": {
      "text/plain": [
       "'2012'"
      ]
     },
     "execution_count": 21,
     "metadata": {},
     "output_type": "execute_result"
    }
   ],
   "source": [
    "file_list=os.listdir('..\\Raw_Data\\Global_fish_world_heatmap')\n",
    "file_list[0][-4:]"
   ]
  },
  {
   "cell_type": "code",
   "execution_count": 22,
   "metadata": {
    "scrolled": false
   },
   "outputs": [
    {
     "name": "stdout",
     "output_type": "stream",
     "text": [
      "..\\Raw_Data\\Global_fish_world_heatmap\\mmsi-daily-csvs-10-v2-2012\\*\n",
      "filtered dataset\n",
      "..\\Raw_Data\\Global_fish_world_heatmap\\mmsi-daily-csvs-10-v2-2019\\*\n",
      "filtered dataset\n",
      "..\\Raw_Data\\Global_fish_world_heatmap\\mmsi-daily-csvs-10-v2-2020\\*\n",
      "filtered dataset\n"
     ]
    }
   ],
   "source": [
    "for file in file_list:\n",
    "    path = os.path.join('..\\Raw_Data\\Global_fish_world_heatmap', file, '*')\n",
    "    print(path)\n",
    "    df = dd.read_csv(path)\n",
    "    df = df.drop(columns = ['mmsi', 'hours'])\n",
    "    df_pandas = df.compute()\n",
    "    df_pandas = df_pandas[df_pandas.fishing_hours != 0]\n",
    "    df_pandas = df_pandas.drop(columns=['fishing_hours'])\n",
    "    #df_pandas = df_pandas[df_pandas['date'].isin(str(file[-4:]) + '-08')]\n",
    "    print('filtered dataset')\n",
    "    #mask = df['date'].str.contains(str(file[-4:]) + '-08')\n",
    "    df_pandas = df_pandas[df_pandas['date'].str.contains(str(file[-4:]) + '-08')]\n",
    "                          \n",
    "    filename = file + '.csv'\n",
    "    saving_path = os.path.join(needed_directories[1], filename)\n",
    "    #df_pandas = df_pandas.sample(frac = 0.1)\n",
    "    df_pandas.to_csv(saving_path, index=False)\n",
    "    gc.collect()\n",
    "\n",
    "    \n",
    "    \n"
   ]
  },
  {
   "cell_type": "code",
   "execution_count": 25,
   "metadata": {},
   "outputs": [
    {
     "data": {
      "text/html": [
       "<div>\n",
       "<style scoped>\n",
       "    .dataframe tbody tr th:only-of-type {\n",
       "        vertical-align: middle;\n",
       "    }\n",
       "\n",
       "    .dataframe tbody tr th {\n",
       "        vertical-align: top;\n",
       "    }\n",
       "\n",
       "    .dataframe thead th {\n",
       "        text-align: right;\n",
       "    }\n",
       "</style>\n",
       "<table border=\"1\" class=\"dataframe\">\n",
       "  <thead>\n",
       "    <tr style=\"text-align: right;\">\n",
       "      <th></th>\n",
       "      <th>date</th>\n",
       "      <th>cell_ll_lat</th>\n",
       "      <th>cell_ll_lon</th>\n",
       "    </tr>\n",
       "  </thead>\n",
       "  <tbody>\n",
       "    <tr>\n",
       "      <th>0</th>\n",
       "      <td>2019-08-01</td>\n",
       "      <td>0.0</td>\n",
       "      <td>-15.2</td>\n",
       "    </tr>\n",
       "    <tr>\n",
       "      <th>1</th>\n",
       "      <td>2019-08-01</td>\n",
       "      <td>0.0</td>\n",
       "      <td>149.8</td>\n",
       "    </tr>\n",
       "    <tr>\n",
       "      <th>2</th>\n",
       "      <td>2019-08-01</td>\n",
       "      <td>0.0</td>\n",
       "      <td>149.5</td>\n",
       "    </tr>\n",
       "    <tr>\n",
       "      <th>3</th>\n",
       "      <td>2019-08-01</td>\n",
       "      <td>0.0</td>\n",
       "      <td>149.4</td>\n",
       "    </tr>\n",
       "    <tr>\n",
       "      <th>4</th>\n",
       "      <td>2019-08-01</td>\n",
       "      <td>0.0</td>\n",
       "      <td>149.7</td>\n",
       "    </tr>\n",
       "    <tr>\n",
       "      <th>...</th>\n",
       "      <td>...</td>\n",
       "      <td>...</td>\n",
       "      <td>...</td>\n",
       "    </tr>\n",
       "    <tr>\n",
       "      <th>1818285</th>\n",
       "      <td>2019-08-31</td>\n",
       "      <td>75.7</td>\n",
       "      <td>41.3</td>\n",
       "    </tr>\n",
       "    <tr>\n",
       "      <th>1818286</th>\n",
       "      <td>2019-08-31</td>\n",
       "      <td>75.7</td>\n",
       "      <td>41.6</td>\n",
       "    </tr>\n",
       "    <tr>\n",
       "      <th>1818287</th>\n",
       "      <td>2019-08-31</td>\n",
       "      <td>75.7</td>\n",
       "      <td>41.4</td>\n",
       "    </tr>\n",
       "    <tr>\n",
       "      <th>1818288</th>\n",
       "      <td>2019-08-31</td>\n",
       "      <td>75.7</td>\n",
       "      <td>41.5</td>\n",
       "    </tr>\n",
       "    <tr>\n",
       "      <th>1818289</th>\n",
       "      <td>2019-08-31</td>\n",
       "      <td>75.7</td>\n",
       "      <td>41.7</td>\n",
       "    </tr>\n",
       "  </tbody>\n",
       "</table>\n",
       "<p>1818290 rows × 3 columns</p>\n",
       "</div>"
      ],
      "text/plain": [
       "               date  cell_ll_lat  cell_ll_lon\n",
       "0        2019-08-01          0.0        -15.2\n",
       "1        2019-08-01          0.0        149.8\n",
       "2        2019-08-01          0.0        149.5\n",
       "3        2019-08-01          0.0        149.4\n",
       "4        2019-08-01          0.0        149.7\n",
       "...             ...          ...          ...\n",
       "1818285  2019-08-31         75.7         41.3\n",
       "1818286  2019-08-31         75.7         41.6\n",
       "1818287  2019-08-31         75.7         41.4\n",
       "1818288  2019-08-31         75.7         41.5\n",
       "1818289  2019-08-31         75.7         41.7\n",
       "\n",
       "[1818290 rows x 3 columns]"
      ]
     },
     "execution_count": 25,
     "metadata": {},
     "output_type": "execute_result"
    }
   ],
   "source": [
    "dataframe_test = pd.read_csv('../Preprocessed_data/Global_Fish_Watch_world_heatmap/mmsi-daily-csvs-10-v2-2019.csv')\n",
    "dataframe_test"
   ]
  },
  {
   "cell_type": "code",
   "execution_count": null,
   "metadata": {},
   "outputs": [],
   "source": []
  }
 ],
 "metadata": {
  "kernelspec": {
   "display_name": "Python 3",
   "language": "python",
   "name": "python3"
  },
  "language_info": {
   "codemirror_mode": {
    "name": "ipython",
    "version": 3
   },
   "file_extension": ".py",
   "mimetype": "text/x-python",
   "name": "python",
   "nbconvert_exporter": "python",
   "pygments_lexer": "ipython3",
   "version": "3.8.5"
  }
 },
 "nbformat": 4,
 "nbformat_minor": 4
}
