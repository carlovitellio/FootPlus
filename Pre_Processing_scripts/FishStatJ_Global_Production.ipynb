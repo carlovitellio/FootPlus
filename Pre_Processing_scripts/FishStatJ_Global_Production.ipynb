{
 "cells": [
  {
   "cell_type": "code",
   "execution_count": 1,
   "metadata": {},
   "outputs": [],
   "source": [
    "import pandas as pd\n",
    "import numpy as np\n",
    "import sys\n",
    "import os"
   ]
  },
  {
   "cell_type": "code",
   "execution_count": 2,
   "metadata": {},
   "outputs": [],
   "source": [
    "data_path = \"../\""
   ]
  },
  {
   "cell_type": "code",
   "execution_count": 3,
   "metadata": {},
   "outputs": [],
   "source": [
    "needed_directories = [\n",
    "    os.path.join(data_path, 'Preprocessed_data'),\n",
    "    os.path.join(data_path, 'Preprocessed_data',\"FishStatJ_Global_Production\")\n",
    "]"
   ]
  },
  {
   "cell_type": "code",
   "execution_count": 4,
   "metadata": {},
   "outputs": [],
   "source": [
    "for directory in needed_directories:\n",
    "    if not os.path.exists(directory): \n",
    "        os.makedirs(directory)"
   ]
  },
  {
   "cell_type": "markdown",
   "metadata": {},
   "source": [
    "# CL_FI_COUNTRY_GROUPS Pre_Processing"
   ]
  },
  {
   "cell_type": "code",
   "execution_count": 5,
   "metadata": {},
   "outputs": [],
   "source": [
    "df = pd.read_csv(\"../Raw_Data/FishStatJ_Global_Production/CL_FI_COUNTRY_GROUPS.csv\")"
   ]
  },
  {
   "cell_type": "code",
   "execution_count": 6,
   "metadata": {},
   "outputs": [
    {
     "name": "stdout",
     "output_type": "stream",
     "text": [
      "ISO3_Code N nulls: 15\n",
      "ISO3_code N nulls: 18\n"
     ]
    }
   ],
   "source": [
    "print(\"ISO3_Code N nulls:\", df[\"ISO3_Code\"].isnull().sum())\n",
    "print(\"ISO3_code N nulls:\", df[\"ISO2_Code\"].isnull().sum())"
   ]
  },
  {
   "cell_type": "code",
   "execution_count": 7,
   "metadata": {},
   "outputs": [],
   "source": [
    "df = df.drop(columns=[\"ISO3_Code\", \"Name_Fr\", \"Name_Es\", \"Name_Ar\", \"Name_Cn\", \"Name_Ru\", \"Official_Name_Fr\", \"Official_Name_Es\",\n",
    "                      \"Official_Name_Ar\", \"Official_Name_Cn\", \"Official_Name_Ru\"])"
   ]
  },
  {
   "cell_type": "code",
   "execution_count": 8,
   "metadata": {},
   "outputs": [],
   "source": [
    "df.to_csv(os.path.join(data_path, 'Preprocessed_data',\"FishStatJ_Global_Production\", \"CL_FI_COUNTRY_GROUPS_PREPROCESSED.csv\"), index=False)"
   ]
  },
  {
   "cell_type": "markdown",
   "metadata": {},
   "source": [
    "# CL_FI_PRODUCTION_SOURCE Pre_processing"
   ]
  },
  {
   "cell_type": "code",
   "execution_count": 9,
   "metadata": {},
   "outputs": [],
   "source": [
    "df = pd.read_csv(\"../Raw_Data/FishStatJ_Global_Production/CL_FI_PRODUCTION_SOURCE.csv\")"
   ]
  },
  {
   "cell_type": "code",
   "execution_count": 10,
   "metadata": {},
   "outputs": [],
   "source": [
    "df = df.drop(columns= [\"Name_Fr\",\"Name_Es\"])"
   ]
  },
  {
   "cell_type": "code",
   "execution_count": 11,
   "metadata": {},
   "outputs": [],
   "source": [
    "df.to_csv(os.path.join(data_path, 'Preprocessed_data',\"FishStatJ_Global_Production\", \"CL_FI_PRODUCTION_SOURCE_PREPROCESSED.csv\"), index=False)"
   ]
  },
  {
   "cell_type": "markdown",
   "metadata": {},
   "source": [
    "# CL_FI_SPECIES_GROUPS preprocessing"
   ]
  },
  {
   "cell_type": "code",
   "execution_count": 12,
   "metadata": {},
   "outputs": [],
   "source": [
    "df = pd.read_csv(\"../Raw_Data/FishStatJ_Global_Production/CL_FI_SPECIES_GROUPS.csv\")"
   ]
  },
  {
   "cell_type": "code",
   "execution_count": 13,
   "metadata": {},
   "outputs": [],
   "source": [
    "df=df.drop(columns=[\"Taxonomic_Code\", \"Identifier\", \"Name_Fr\", \"Name_Es\", \"Name_Ar\", \"Name_Cn\", \"Name_Ru\",\n",
    "                   \"Author\",\"Yearbook_Group\"])"
   ]
  },
  {
   "cell_type": "code",
   "execution_count": 14,
   "metadata": {},
   "outputs": [],
   "source": [
    "df.to_csv(os.path.join(data_path, 'Preprocessed_data',\"FishStatJ_Global_Production\", \"CL_FI_SPECIES_GROUPS_PREPROCESSED.csv\"), index=False)"
   ]
  },
  {
   "cell_type": "markdown",
   "metadata": {},
   "source": [
    "# CL_FI_SYMBOL preprocessing"
   ]
  },
  {
   "cell_type": "code",
   "execution_count": 15,
   "metadata": {},
   "outputs": [],
   "source": [
    "df = pd.read_csv(\"../Raw_Data/FishStatJ_Global_Production/CL_FI_SYMBOL.csv\")"
   ]
  },
  {
   "cell_type": "code",
   "execution_count": 16,
   "metadata": {},
   "outputs": [],
   "source": [
    "df=df.drop(columns=[\"Code\", \"Name\"])"
   ]
  },
  {
   "cell_type": "code",
   "execution_count": 17,
   "metadata": {},
   "outputs": [],
   "source": [
    "df.to_csv(os.path.join(data_path, 'Preprocessed_data',\"FishStatJ_Global_Production\", \"CL_FI_SYMBOL_PREPROCESSED.csv\"), index=False)"
   ]
  },
  {
   "cell_type": "markdown",
   "metadata": {},
   "source": [
    "# CL_FI_UNIT preprocessing"
   ]
  },
  {
   "cell_type": "code",
   "execution_count": 18,
   "metadata": {},
   "outputs": [],
   "source": [
    "df = pd.read_csv(\"../Raw_Data/FishStatJ_Global_Production/CL_FI_UNIT.csv\")"
   ]
  },
  {
   "cell_type": "code",
   "execution_count": 19,
   "metadata": {},
   "outputs": [],
   "source": [
    "df=df.drop(columns=[\"Name_Fr\", \"Name_Es\"])"
   ]
  },
  {
   "cell_type": "code",
   "execution_count": 20,
   "metadata": {},
   "outputs": [],
   "source": [
    "df.to_csv(os.path.join(data_path, 'Preprocessed_data',\"FishStatJ_Global_Production\", \"CL_FI_UNIT_PREPROCESSED.csv\"), index=False)"
   ]
  },
  {
   "cell_type": "markdown",
   "metadata": {},
   "source": [
    "# CL_FI_WATERAREA_GROUPS preprocessing"
   ]
  },
  {
   "cell_type": "code",
   "execution_count": 21,
   "metadata": {},
   "outputs": [],
   "source": [
    "df = pd.read_csv(\"../Raw_Data/FishStatJ_Global_Production/CL_FI_WATERAREA_GROUPS.csv\")"
   ]
  },
  {
   "cell_type": "code",
   "execution_count": 22,
   "metadata": {},
   "outputs": [],
   "source": [
    "df = df.drop(columns=[\"Name_fr\",\"Name_es\"])"
   ]
  },
  {
   "cell_type": "code",
   "execution_count": 23,
   "metadata": {},
   "outputs": [],
   "source": [
    "df.to_csv(os.path.join(data_path, 'Preprocessed_data',\"FishStatJ_Global_Production\", \"CL_FI_WATERAREA_GROUPS_PREPROCESSED.csv\"), index=False)"
   ]
  },
  {
   "cell_type": "markdown",
   "metadata": {},
   "source": [
    "# TS_FI_PRODUCTION preprocessing"
   ]
  },
  {
   "cell_type": "code",
   "execution_count": 24,
   "metadata": {},
   "outputs": [],
   "source": [
    "df = pd.read_csv(\"../Raw_Data/FishStatJ_Global_Production/TS_FI_PRODUCTION.csv\")"
   ]
  },
  {
   "cell_type": "code",
   "execution_count": 25,
   "metadata": {},
   "outputs": [],
   "source": [
    "df = df.sort_values(by = [\"COUNTRY\",\"YEAR\"])"
   ]
  },
  {
   "cell_type": "code",
   "execution_count": 26,
   "metadata": {},
   "outputs": [],
   "source": [
    "df.to_csv(os.path.join(data_path, 'Preprocessed_data',\"FishStatJ_Global_Production\", \"TS_FI_PRODUCTION_PREPROCESSED.csv\"), index=False)"
   ]
  }
 ],
 "metadata": {
  "kernelspec": {
   "display_name": "Python 3",
   "language": "python",
   "name": "python3"
  },
  "language_info": {
   "codemirror_mode": {
    "name": "ipython",
    "version": 3
   },
   "file_extension": ".py",
   "mimetype": "text/x-python",
   "name": "python",
   "nbconvert_exporter": "python",
   "pygments_lexer": "ipython3",
   "version": "3.8.5"
  }
 },
 "nbformat": 4,
 "nbformat_minor": 4
}
