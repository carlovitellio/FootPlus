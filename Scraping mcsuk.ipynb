{
 "cells": [
  {
   "cell_type": "code",
   "execution_count": 1,
   "metadata": {},
   "outputs": [],
   "source": [
    "import os\n",
    "import requests\n",
    "\n",
    "def download_image(url, pathname, name):\n",
    "    \"\"\"\n",
    "    Downloads a file given an URL and puts it in the folder `pathname`\n",
    "    \"\"\"\n",
    "    # if path doesn't exist, make that path dir\n",
    "    if not os.path.isdir(pathname):\n",
    "        os.makedirs(pathname)\n",
    "    # download the body of response by chunk, not immediately\n",
    "    response = requests.get(url, stream=True)\n",
    "    # get the file name\n",
    "    filename = os.path.join(pathname, name.strip() + '.jpg')\n",
    "    with open(filename, \"wb\") as f:\n",
    "        # write data read to the file\n",
    "        f.write(response.content)"
   ]
  },
  {
   "cell_type": "code",
   "execution_count": 2,
   "metadata": {},
   "outputs": [],
   "source": [
    "import pandas as pd\n",
    "import requests\n",
    "from bs4 import BeautifulSoup\n",
    "import re\n",
    "\n",
    "site = \"https://www.mcsuk.org\"\n",
    "page = requests.get(\"https://www.mcsuk.org/goodfishguide/search?name=&start=31&perPage=134&min=0&max=5&mp=all&cm=all&tof=all\")\n",
    "soup = BeautifulSoup(page.content, 'html.parser')\n",
    "\n",
    "fishes = {}\n",
    "for fish in soup.find_all(class_ = 'fish'):\n",
    "    try:\n",
    "        key = fish.find('strong').get_text() + \" \" \n",
    "        for string in fish.find('h3').get_text().split(',')[1:]:\n",
    "            key += string.strip() + \" \"\n",
    "    except:\n",
    "        key = fish.find('strong').get_text()\n",
    "        \n",
    "    fishes[key] = fish.find(class_ = 'sustainability_rating').find('img').get('alt')\n",
    "    # Downloading images\n",
    "    img = fish.find('img')\n",
    "    url = img['src']\n",
    "    filename = re.search(r'/images/goodfishguide/([\\w_-]+[.](jpg|gif|png))$', url)\n",
    "    if not filename:\n",
    "         continue\n",
    "    url = '{}{}'.format(site, url)\n",
    "    download_image(url, './images', key)"
   ]
  },
  {
   "cell_type": "code",
   "execution_count": 3,
   "metadata": {
    "scrolled": true
   },
   "outputs": [],
   "source": [
    "df_rating = pd.DataFrame(fishes, index=['Rating']).transpose().reset_index().rename(columns={'index': 'Fish'})\n",
    "\n",
    "decode = {'one': '1', \n",
    "          'two': '2',\n",
    "          'three': '3', \n",
    "          'four': '4', \n",
    "          'five': '5', \n",
    "          'from one to two': '1-2',\n",
    "          'from one to three': '1-3',\n",
    "          'from one to four': '1-4', \n",
    "          'from one to five': '1-5', \n",
    "          'from two to three' : '2-3', \n",
    "          'from two to four': '2-4',\n",
    "          'from two to five': '2-5', \n",
    "          'from three to four': '3-4', \n",
    "          'from three to five': '3-5', \n",
    "          'from four to five': '4-5', \n",
    "          'three with at least one rating under review': '3*',\n",
    "          'from two to five with at least one rating under review': '2-5*',\n",
    "          'rating under review': 'rating under review',\n",
    "         }\n",
    "\n",
    "df_rating['Sustainability rating'] = df_rating.apply(lambda x: decode[x.Rating], axis=1)"
   ]
  },
  {
   "cell_type": "code",
   "execution_count": 4,
   "metadata": {
    "scrolled": true
   },
   "outputs": [],
   "source": [
    "from google_trans_new import google_translator  \n",
    "translator = google_translator()  \n",
    "\n",
    "df_rating['Pesce'] = df_rating.apply(lambda x: translator.translate(x.Fish, lang_tgt='it'), axis=1)"
   ]
  },
  {
   "cell_type": "code",
   "execution_count": 5,
   "metadata": {
    "scrolled": true
   },
   "outputs": [
    {
     "data": {
      "text/plain": [
       "'Questa è una penna.'"
      ]
     },
     "execution_count": 5,
     "metadata": {},
     "output_type": "execute_result"
    }
   ],
   "source": [
    "from translate import Translator\n",
    "translator = Translator(to_lang=\"it\", from_lang='en')\n",
    "translator.translate(\"This is a pen.\")"
   ]
  },
  {
   "cell_type": "code",
   "execution_count": 6,
   "metadata": {},
   "outputs": [],
   "source": [
    "df_rating.to_csv('sustainable_fish.csv', index=False)"
   ]
  }
 ],
 "metadata": {
  "kernelspec": {
   "display_name": "Python 3",
   "language": "python",
   "name": "python3"
  },
  "language_info": {
   "codemirror_mode": {
    "name": "ipython",
    "version": 3
   },
   "file_extension": ".py",
   "mimetype": "text/x-python",
   "name": "python",
   "nbconvert_exporter": "python",
   "pygments_lexer": "ipython3",
   "version": "3.7.9"
  }
 },
 "nbformat": 4,
 "nbformat_minor": 4
}
